{
  "nbformat": 4,
  "nbformat_minor": 0,
  "metadata": {
    "colab": {
      "name": "2. Data fitting using Feedforward NN.ipynb",
      "provenance": [],
      "collapsed_sections": [],
      "authorship_tag": "ABX9TyN5zSQlP8QQk8Y5uKCoWqXR"
    },
    "kernelspec": {
      "display_name": "Python 3",
      "name": "python3"
    },
    "accelerator": "GPU"
  },
  "cells": [
    {
      "cell_type": "markdown",
      "metadata": {
        "id": "zGqZSiFW7p4H"
      },
      "source": [
        "**This notebook is dedicated to build a feedforward neural net to classify the actors.**\n",
        "\n",
        "The dataset fed to the model is the set of the resized equalized grayscale images."
      ]
    },
    {
      "cell_type": "markdown",
      "metadata": {
        "id": "XmPMd9siMLMh"
      },
      "source": [
        "# Setup the dataset"
      ]
    },
    {
      "cell_type": "code",
      "metadata": {
        "id": "XUuFCf0NMQQW"
      },
      "source": [
        "# !pip install pytorch_lightning\n",
        "import pytorch_lightning as pl\n",
        "import torch\n",
        "from torch import nn\n",
        "from torch.utils.data import DataLoader,random_split\n",
        "from pytorch_lightning.core.lightning import LightningModule\n",
        "from pytorch_lightning import Trainer\n",
        "\n",
        "import pandas as pd\n",
        "import numpy as np\n",
        "import cv2 as cv"
      ],
      "execution_count": null,
      "outputs": []
    },
    {
      "cell_type": "code",
      "metadata": {
        "id": "YavS5GtPXIp-"
      },
      "source": [
        "# Step 1:  Downloading the dataset.\n",
        "\n",
        "! wget https://datahack-prod.s3.amazonaws.com/test_zip/test_Bh8pGW3.zip\n",
        "! unzip test_Bh8pGW3.zip\n",
        "! wget https://datahack-prod.s3.amazonaws.com/train_zip/train_DETg9GD.zip\n",
        "! unzip train_DETg9GD.zip"
      ],
      "execution_count": null,
      "outputs": []
    },
    {
      "cell_type": "code",
      "metadata": {
        "id": "bi9uSjB1MgCK"
      },
      "source": [
        "# Step 2: Define a pl DataModule\n",
        "\n",
        "class ImagesLoader(pl.LightningDataModule):\n",
        "\n",
        "    def __init__(self,classes:dict,batch_size=32):\n",
        "        super(ImagesLoader,self).__init__()\n",
        "        self.batch_size=batch_size\n",
        "        self.classes=classes\n",
        "\n",
        "    def prepare_data(self,num_imgs=1e10,img_size=(100,100)):\n",
        "        # Training data\n",
        "        train_csv=pd.read_csv(\"train.csv\")\n",
        "        self.train_set=[]\n",
        "        # Only get num_imgs image due to transformation complications\n",
        "        for i in range(min(num_imgs,train_csv.shape[0])):\n",
        "            img=cv.imread(f\"Train/{train_csv.loc[i,'ID']}\",0)\n",
        "            img=cv.equalizeHist(img)\n",
        "            img=cv.resize(img,img_size)\n",
        "            # img=cv.Canny(img,100,200)\n",
        "            self.train_set.append((torch.tensor(img).float()/256.,train_csv.loc[i,'Class']))\n",
        "\n",
        "    def setup(self):\n",
        "        # Which classes to keep in the train & val datasets\n",
        "        data=[]\n",
        "        keys=list(self.classes.keys())\n",
        "        for ex in self.train_set:\n",
        "            if ex[1] in keys:\n",
        "                data.append((ex[0],self.classes[ex[1]]))\n",
        "        # Split the data 80% and 20%. The latter for validation\n",
        "        thres=8*len(data)//10\n",
        "        self.train,self.val=random_split(data,[thres,len(data)-thres])\n",
        "\n",
        "    def train_dataloader(self):\n",
        "        return DataLoader(self.train,self.batch_size)\n",
        "\n",
        "    def val_dataloader(self):\n",
        "        return DataLoader(self.val,self.batch_size)"
      ],
      "execution_count": null,
      "outputs": []
    },
    {
      "cell_type": "markdown",
      "metadata": {
        "id": "t0TB5UXs7xF6"
      },
      "source": [
        "# Binary Classification"
      ]
    },
    {
      "cell_type": "markdown",
      "metadata": {
        "id": "hqjhNFe695G-"
      },
      "source": [
        "1- MLP model to discriminate between young and old actors.\n",
        "\n",
        "2-  MLP model to discriminate between middle-aged and old actors.\n",
        "\n",
        "3- Combine the models in a single one."
      ]
    },
    {
      "cell_type": "code",
      "metadata": {
        "id": "eCGe2VjwQpes"
      },
      "source": [
        "# Step 1: Train a 1e4, 1e3, 500, 1 with sigmoid output and softmargin loss\n",
        "\n",
        "class MLP(LightningModule):\n",
        "\n",
        "    def __init__(self,in_dim):\n",
        "        super().__init__()\n",
        "\n",
        "        self.model=nn.Sequential(\n",
        "                            nn.Flatten(),\n",
        "\n",
        "                            nn.Linear(in_dim,1000),\n",
        "                            nn.PReLU(1000),\n",
        "\n",
        "                            nn.Linear(1000,500),\n",
        "                            nn.PReLU(500),\n",
        "                            \n",
        "                            nn.Linear(500,500),\n",
        "                            nn.Softmax(),\n",
        "                            \n",
        "                            nn.Linear(500,100),\n",
        "                            nn.PReLU(100),\n",
        "                            \n",
        "                            nn.Linear(100,200),\n",
        "                            nn.Tanh(),\n",
        "                            \n",
        "                            nn.Linear(200,50),\n",
        "                            nn.PReLU(50),                                                                  \n",
        "                            \n",
        "                            nn.Linear(50,1),\n",
        "                            nn.PReLU()\n",
        "                                 )\n",
        "        self.cost=nn.SoftMarginLoss()\n",
        "\n",
        "    def forward(self,x):\n",
        "        return self.model(x)\n",
        "\n",
        "    def configure_optimizers(self):\n",
        "        return torch.optim.Adam(self.parameters(),lr=1e-9,weight_decay=1)\n",
        "\n",
        "    def training_step(self,batch,batch_idx):\n",
        "        x,y=batch\n",
        "        y_hat=self(x).flatten()\n",
        "        return self.cost(y_hat,y.float())\n",
        "\n",
        "    def validation_step(self,batch,batch_idx):\n",
        "        x,y=batch\n",
        "        y_hat=self(x).flatten()\n",
        "        return self.cost(y_hat,y.float())\n",
        "\n",
        "    def validation_epoch_end(self,outs):\n",
        "        print(f'Validation for this epoch: \\t\\t{max(outs)}')"
      ],
      "execution_count": null,
      "outputs": []
    },
    {
      "cell_type": "code",
      "metadata": {
        "id": "CWs3FB4dK2s9"
      },
      "source": [
        "data=ImagesLoader({'YOUNG':-1,'OLD':1})\n",
        "data.prepare_data(img_size=(100,100))\n",
        "data.setup()"
      ],
      "execution_count": null,
      "outputs": []
    },
    {
      "cell_type": "code",
      "metadata": {
        "id": "REC81KsKQCOr"
      },
      "source": [
        "# ML model\n",
        "model=MLP(10000)\n",
        "trainer=Trainer(gpus=-1,progress_bar_refresh_rate=20)\n",
        "trainer.fit(model,data)"
      ],
      "execution_count": null,
      "outputs": []
    },
    {
      "cell_type": "markdown",
      "metadata": {
        "id": "lk0kQvOph2tU"
      },
      "source": [
        "**Didn't work.**"
      ]
    }
  ]
}